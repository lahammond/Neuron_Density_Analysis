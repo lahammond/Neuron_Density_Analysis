{
 "cells": [
  {
   "cell_type": "markdown",
   "metadata": {},
   "source": [
    "This script should be run on a folder containing density heatmaps generated from the ImageJ Density Heatmap analysis tool.\n",
    "\n",
    "It will create an indivdual csv file for each image, and a summary file for the complete set."
   ]
  },
  {
   "cell_type": "code",
   "execution_count": 1,
   "metadata": {},
   "outputs": [],
   "source": [
    "import numpy as np\n",
    "import matplotlib.pyplot as plt\n",
    "from skimage import io\n",
    "import os\n",
    "import csv\n",
    "import sys\n",
    "from scipy.misc import face\n",
    "from PIL import Image, ImageDraw\n",
    "from skimage.morphology import convex_hull_image\n",
    "from skimage import measure\n",
    "import pandas as pd"
   ]
  },
  {
   "cell_type": "code",
   "execution_count": 10,
   "metadata": {},
   "outputs": [
    {
     "name": "stdout",
     "output_type": "stream",
     "text": [
      "current directory is : C:\\Users\\Luke\\Desktop\\NeuronMaskTest\\Density_Heatmaps\n",
      "Directory name is : Density_Heatmaps\n"
     ]
    }
   ],
   "source": [
    "# if necessary update the working directory\n",
    "os.chdir('C:/Users/Luke/Desktop/TestData/Density_Heatmaps')\n",
    "dirpath = os.getcwd()\n",
    "print(\"current directory is : \" + dirpath)\n",
    "foldername = os.path.basename(dirpath)\n",
    "print(\"Directory name is : \" + foldername)"
   ]
  },
  {
   "cell_type": "code",
   "execution_count": 11,
   "metadata": {},
   "outputs": [],
   "source": [
    "# list tif files in directory\n",
    "files = [file_i\n",
    "         for file_i in os.listdir(dirpath)\n",
    "         if file_i.endswith('.tif')]"
   ]
  },
  {
   "cell_type": "code",
   "execution_count": 12,
   "metadata": {},
   "outputs": [],
   "source": [
    "# Create empty arrays for measurements\n",
    "Counter = []\n",
    "Filename = []\n",
    "ConvexHullArea = []\n",
    "PeakDensity = []\n",
    "Zeros = []"
   ]
  },
  {
   "cell_type": "code",
   "execution_count": 13,
   "metadata": {},
   "outputs": [
    {
     "name": "stdout",
     "output_type": "stream",
     "text": [
      "processing file s407_01_MaxIP_3.tif\n",
      "processing file s407_04_MaxIP_1.tif\n",
      "processing file s427_01_MaxIP_1.tif\n",
      "processing file s427_05_MaxIP_1.tif\n",
      "processing file s427_08_MaxIP_1.tif\n",
      "processing file s429_12_MaxIP_1.tif\n",
      "processing file s429_14_MaxIP_1.tif\n",
      "processing file s431_24_MaxIP_1.tif\n",
      "processing file s431_26_MaxIP_1.tif\n",
      "processing file s431_29_MaxIP_1.tif\n",
      "processing file s432_02_MaxIP_1.tif\n",
      "processing file s432_04_MaxIP_1.tif\n",
      "processing file s432_08_MaxIP_1.tif\n",
      "processing file s432_11_MaxIP_1.tif\n",
      "processing file s432_14_MaxIP_2.tif\n",
      "processing file s471_07_MaxIP_1.tif\n",
      "processing file s471_11_MaxIP_1.tif\n",
      "processing file s471_12_MaxIP_1.tif\n",
      "processing file s476_14_MaxIP_1.tif\n",
      "processing file s521_a3c1__cut180.tif\n",
      "processing file s521_a4c1__cut180.tif\n",
      "processing file s521_a5c2__cut180.tif\n",
      "processing file s521_a6c1__cut180.tif\n"
     ]
    }
   ],
   "source": [
    "# Loop over files\n",
    "for file in range(len(files)):\n",
    "    #print('processing file '+files[file], end='\\r')\n",
    "    print('processing file '+files[file])\n",
    "    Counter.append(file)\n",
    "    Filename.append(files[file])\n",
    "    \n",
    "    #import image and set channels\n",
    "    img = io.imread(files[file])\n",
    "    #set channels\n",
    "    Soma = img[:,:,0]\n",
    "    Density = img[:,:,1]\n",
    "    Neuron = img[:,:,2]\n",
    "    Distance = img[:,:,3]\n",
    "    \n",
    "    #get convex hull\n",
    "    chull = convex_hull_image(Neuron)\n",
    "    all_labels = measure.label(chull)\n",
    "    #blobs_labels = measure.label(chull, background=0)\n",
    "    properties = measure.regionprops(all_labels)\n",
    "    ConvexHullArea.append(properties[0].area)\n",
    "    \n",
    "    #create mask\n",
    "    mask = (chull > 0)\n",
    "       \n",
    "    #measure itensity (Density) within mask\n",
    "    region = Density[mask]\n",
    "    hist = np.histogram(region.ravel(), bins = 200, range = [0, 200])\n",
    "    \n",
    "    HistX = np.array(hist[1][0:-1:]) #had to adjust otherwise was 201 long not 200\n",
    "    HistY = np.array(hist[0])\n",
    "    \n",
    "    Total = sum(hist[0])\n",
    "    \n",
    "    #HistPC = \n",
    "    HistDF = pd.DataFrame({\"Intensity\" : HistX,\"Count\" : HistY})\n",
    "    HistDF.to_csv(files[file]+\".csv\", index=False)\n",
    "    \n",
    "    #get other interesting values:\n",
    "    #peak density\n",
    "    PeakDensity.append(np.max(Density))\n",
    "    #number of zeros within convexhull\n",
    "    Zeros.append(hist[0][0])\n",
    "      \n",
    "    "
   ]
  },
  {
   "cell_type": "code",
   "execution_count": 16,
   "metadata": {},
   "outputs": [],
   "source": [
    "Counter = np.array(Counter)\n",
    "Filename = np.array(Filename)\n",
    "ConvexHullArea = np.array(ConvexHullArea)\n",
    "PeakDensity = np.array(PeakDensity)\n",
    "Zeros = np.array(Zeros)"
   ]
  },
  {
   "cell_type": "code",
   "execution_count": 17,
   "metadata": {},
   "outputs": [],
   "source": [
    "#Create summary table\n",
    "df = pd.DataFrame({\"Cell_ID\" : Counter,\"Filename\" : Filename, \"Convex_Hull_Area_px\" : ConvexHullArea, \n",
    "                   \"Peak_Density\" : PeakDensity, \"Total_Zeros\" : Zeros})\n",
    "#save summary table\n",
    "df.to_csv(\"Summary.csv\", index=False)"
   ]
  }
 ],
 "metadata": {
  "kernelspec": {
   "display_name": "Python 3",
   "language": "python",
   "name": "python3"
  },
  "language_info": {
   "codemirror_mode": {
    "name": "ipython",
    "version": 3
   },
   "file_extension": ".py",
   "mimetype": "text/x-python",
   "name": "python",
   "nbconvert_exporter": "python",
   "pygments_lexer": "ipython3",
   "version": "3.7.6"
  }
 },
 "nbformat": 4,
 "nbformat_minor": 2
}
